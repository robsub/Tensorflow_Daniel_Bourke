{
  "nbformat": 4,
  "nbformat_minor": 0,
  "metadata": {
    "colab": {
      "provenance": [],
      "authorship_tag": "ABX9TyOlwnXxJpdlMnFFDO9cvs8G",
      "include_colab_link": true
    },
    "kernelspec": {
      "name": "python3",
      "display_name": "Python 3"
    },
    "language_info": {
      "name": "python"
    }
  },
  "cells": [
    {
      "cell_type": "markdown",
      "metadata": {
        "id": "view-in-github",
        "colab_type": "text"
      },
      "source": [
        "<a href=\"https://colab.research.google.com/github/robsub/Tensorflow_Daniel_Bourke/blob/main/00_tensorflow_fundamentals.ipynb\" target=\"_parent\"><img src=\"https://colab.research.google.com/assets/colab-badge.svg\" alt=\"Open In Colab\"/></a>"
      ]
    },
    {
      "cell_type": "markdown",
      "source": [
        "# What is TensorFlow?\n",
        "TensorFlow is an open-source end-to-end machine learning library for preprocessing data, modelling data and serving models (getting them into the hands of others).\n",
        "\n",
        "# Why use TensorFlow?\n",
        "Rather than building machine learning and deep learning models from scratch, it's more likely you'll use a library such as TensorFlow. This is because it contains many of the most common machine learning functions you'll want to use.\n",
        "\n",
        "# What we're going to cover\n",
        "TensorFlow is vast. But the main premise is simple: turn data into numbers (tensors) and build machine learning algorithms to find patterns in them.\n",
        "\n",
        "In this notebook we cover some of the most fundamental TensorFlow operations, more specifically:\n",
        "\n",
        "- Introduction to tensors (creating tensors)\n",
        "- Getting information from tensors (tensor attributes)\n",
        "- Manipulating tensors (tensor operations)\n",
        "- Tensors and NumPy\n",
        "- Using @tf.function (a way to speed up your regular Python functions)\n",
        "- Using GPUs with TensorFlow\n",
        "- Exercises to try\n",
        "\n",
        "## Things to note:\n",
        "\n",
        "Many of the conventions here will happen automatically behind the scenes (when you build a model) but it's worth knowing so if you see any of these things, you know what's happening.\n",
        "For any TensorFlow function you see, it's important to be able to check it out in the documentation, for example, going to the Python API docs for all functions and searching for what you need: https://www.tensorflow.org/api_docs/python/ (don't worry if this seems overwhelming at first, with enough practice, you'll get used to navigating the documentaiton).\n",
        "Introduction to Tensors\n",
        "If you've ever used NumPy, tensors are kind of like NumPy arrays (we'll see more on this later).\n",
        "\n",
        "For the sake of this notebook and going forward, you can think of a tensor as a multi-dimensional numerical representation (also referred to as n-dimensional, where n can be any number) of something. Where something can be almost anything you can imagine:\n",
        "\n",
        "It could be numbers themselves (using tensors to represent the price of houses).\n",
        "It could be an image (using tensors to represent the pixels of an image).\n",
        "It could be text (using tensors to represent words).\n",
        "Or it could be some other form of information (or data) you want to represent with numbers.\n",
        "The main difference between tensors and NumPy arrays (also an n-dimensional array of numbers) is that tensors can be used on GPUs (graphical processing units) and TPUs (tensor processing units).\n",
        "\n",
        "The benefit of being able to run on GPUs and TPUs is faster computation, this means, if we wanted to find patterns in the numerical representations of our data, we can generally find them faster using GPUs and TPUs.\n",
        "\n",
        "Okay, we've been talking enough about tensors, let's see them.\n",
        "\n",
        "The first thing we'll do is import TensorFlow under the common alias tf."
      ],
      "metadata": {
        "id": "w1KRn6I4IOBg"
      }
    },
    {
      "cell_type": "code",
      "execution_count": 1,
      "metadata": {
        "colab": {
          "base_uri": "https://localhost:8080/"
        },
        "id": "OpIafdfiGY07",
        "outputId": "5b5f69b3-9f27-40c8-c752-d6d8b7d1e94d"
      },
      "outputs": [
        {
          "output_type": "stream",
          "name": "stdout",
          "text": [
            "2.11.0\n"
          ]
        }
      ],
      "source": [
        "# Import TensorFlow\n",
        "\n",
        "import tensorflow as tf\n",
        "print(tf.__version__)"
      ]
    },
    {
      "cell_type": "markdown",
      "source": [
        "\n",
        "# Creating Tensors with tf.constant()\n",
        "As mentioned before, in general, you usually won't create tensors yourself. This is because TensorFlow has modules built-in (such as tf.io and tf.data) which are able to read your data sources and automatically convert them to tensors and then later on, neural network models will process these for us.\n",
        "\n",
        "But for now, because we're getting familar with tensors themselves and how to manipulate them, we'll see how we can create them ourselves.\n",
        "\n",
        "We'll begin by using tf.constant()"
      ],
      "metadata": {
        "id": "FUmEdZ7ILP05"
      }
    },
    {
      "cell_type": "markdown",
      "source": [
        "\n",
        "A scalar is known as a rank 0 tensor. Because it has no dimensions (it's just a number).\n",
        "\n",
        "🔑 Note: For now, you don't need to know too much about the different ranks of tensors (but we will see more on this later). The important point is knowing tensors can have an unlimited range of dimensions (the exact amount will depend on what data you're representing)."
      ],
      "metadata": {
        "id": "gbIHzA-DKt77"
      }
    },
    {
      "cell_type": "code",
      "source": [
        "# Create a scalar (rank 0 tensor)\n",
        "scalar = tf.constant(7)\n",
        "scalar"
      ],
      "metadata": {
        "colab": {
          "base_uri": "https://localhost:8080/"
        },
        "id": "v1q3hy0hKwcU",
        "outputId": "05d10a71-4331-4e4d-fb66-19015d1a4fd1"
      },
      "execution_count": 18,
      "outputs": [
        {
          "output_type": "execute_result",
          "data": {
            "text/plain": [
              "<tf.Tensor: shape=(), dtype=int32, numpy=7>"
            ]
          },
          "metadata": {},
          "execution_count": 18
        }
      ]
    },
    {
      "cell_type": "code",
      "source": [
        "# Check the number of dimensions of a tensor (ndim stands for number of dimensions)\n",
        "scalar.ndim"
      ],
      "metadata": {
        "colab": {
          "base_uri": "https://localhost:8080/"
        },
        "id": "1-vmCU9UIl5s",
        "outputId": "0f457b5e-5594-47da-80d6-260b5bef021f"
      },
      "execution_count": 13,
      "outputs": [
        {
          "output_type": "execute_result",
          "data": {
            "text/plain": [
              "0"
            ]
          },
          "metadata": {},
          "execution_count": 13
        }
      ]
    },
    {
      "cell_type": "code",
      "source": [
        "# Create a matrix (more than 1 dimension)\n",
        "matrix = tf.constant([[10, 7],\n",
        "                      [7, 10]])\n",
        "matrix"
      ],
      "metadata": {
        "colab": {
          "base_uri": "https://localhost:8080/"
        },
        "id": "lJAySC4oLatx",
        "outputId": "4e5bf4ff-8c8d-4335-f7c2-bc34e251f17a"
      },
      "execution_count": 22,
      "outputs": [
        {
          "output_type": "execute_result",
          "data": {
            "text/plain": [
              "<tf.Tensor: shape=(2, 2), dtype=int32, numpy=\n",
              "array([[10,  7],\n",
              "       [ 7, 10]], dtype=int32)>"
            ]
          },
          "metadata": {},
          "execution_count": 22
        }
      ]
    },
    {
      "cell_type": "code",
      "source": [
        "matrix.ndim"
      ],
      "metadata": {
        "colab": {
          "base_uri": "https://localhost:8080/"
        },
        "id": "AHDBoRhYLuO1",
        "outputId": "0516376e-d660-47e4-9949-efc3749b977b"
      },
      "execution_count": 25,
      "outputs": [
        {
          "output_type": "execute_result",
          "data": {
            "text/plain": [
              "2"
            ]
          },
          "metadata": {},
          "execution_count": 25
        }
      ]
    },
    {
      "cell_type": "code",
      "source": [
        "matrix.shape"
      ],
      "metadata": {
        "colab": {
          "base_uri": "https://localhost:8080/"
        },
        "id": "WLxZV21MLwhe",
        "outputId": "df53809a-f965-4bbd-d18c-6077790b0389"
      },
      "execution_count": 24,
      "outputs": [
        {
          "output_type": "execute_result",
          "data": {
            "text/plain": [
              "TensorShape([2, 2])"
            ]
          },
          "metadata": {},
          "execution_count": 24
        }
      ]
    },
    {
      "cell_type": "code",
      "source": [
        "scalarROB = tf.constant([[10, 7],\n",
        "                      [7, 10]])"
      ],
      "metadata": {
        "id": "Dd3x6Va5MOwA"
      },
      "execution_count": 27,
      "outputs": []
    },
    {
      "cell_type": "code",
      "source": [
        "scalarROB.ndim"
      ],
      "metadata": {
        "colab": {
          "base_uri": "https://localhost:8080/"
        },
        "id": "IG4zctd1N7R6",
        "outputId": "7e8ccf9c-feac-46dd-bfe0-c1c66cd8e1b2"
      },
      "execution_count": 28,
      "outputs": [
        {
          "output_type": "execute_result",
          "data": {
            "text/plain": [
              "2"
            ]
          },
          "metadata": {},
          "execution_count": 28
        }
      ]
    },
    {
      "cell_type": "code",
      "source": [
        "scalarROB.shape"
      ],
      "metadata": {
        "colab": {
          "base_uri": "https://localhost:8080/"
        },
        "id": "XmcWZ58IOOUp",
        "outputId": "46c57f37-7167-44af-f605-a1c18f1cd12f"
      },
      "execution_count": 29,
      "outputs": [
        {
          "output_type": "execute_result",
          "data": {
            "text/plain": [
              "TensorShape([2, 2])"
            ]
          },
          "metadata": {},
          "execution_count": 29
        }
      ]
    },
    {
      "cell_type": "code",
      "source": [
        "# Create a vector (more than 0 dimensions)\n",
        "vector = tf.constant([10, 10])\n",
        "vector"
      ],
      "metadata": {
        "colab": {
          "base_uri": "https://localhost:8080/"
        },
        "id": "vDbgt_FdOQDY",
        "outputId": "99b6d11e-bf30-45e3-bd64-334e6fa0c34d"
      },
      "execution_count": 30,
      "outputs": [
        {
          "output_type": "execute_result",
          "data": {
            "text/plain": [
              "<tf.Tensor: shape=(2,), dtype=int32, numpy=array([10, 10], dtype=int32)>"
            ]
          },
          "metadata": {},
          "execution_count": 30
        }
      ]
    },
    {
      "cell_type": "code",
      "source": [
        "vector.ndim"
      ],
      "metadata": {
        "colab": {
          "base_uri": "https://localhost:8080/"
        },
        "id": "Q863iWSERYDB",
        "outputId": "2d07d068-3500-4e1a-fe45-a06fc132ec60"
      },
      "execution_count": 31,
      "outputs": [
        {
          "output_type": "execute_result",
          "data": {
            "text/plain": [
              "1"
            ]
          },
          "metadata": {},
          "execution_count": 31
        }
      ]
    },
    {
      "cell_type": "code",
      "source": [
        "# Create a matrix (more than 1 dimension)\n",
        "matrix = tf.constant([[10, 7],\n",
        "                      [7, 10]])\n",
        "matrix"
      ],
      "metadata": {
        "colab": {
          "base_uri": "https://localhost:8080/"
        },
        "id": "jhBQzG1ERneK",
        "outputId": "bdb9e66b-11cb-451d-e4e1-bb1c1a19f75b"
      },
      "execution_count": 32,
      "outputs": [
        {
          "output_type": "execute_result",
          "data": {
            "text/plain": [
              "<tf.Tensor: shape=(2, 2), dtype=int32, numpy=\n",
              "array([[10,  7],\n",
              "       [ 7, 10]], dtype=int32)>"
            ]
          },
          "metadata": {},
          "execution_count": 32
        }
      ]
    },
    {
      "cell_type": "code",
      "source": [
        "matrix.ndim"
      ],
      "metadata": {
        "colab": {
          "base_uri": "https://localhost:8080/"
        },
        "id": "TKKCy8MiR1db",
        "outputId": "0b9065d5-fc61-44c0-baba-c005777f9362"
      },
      "execution_count": 33,
      "outputs": [
        {
          "output_type": "execute_result",
          "data": {
            "text/plain": [
              "2"
            ]
          },
          "metadata": {},
          "execution_count": 33
        }
      ]
    },
    {
      "cell_type": "code",
      "source": [
        "matrixROB = tf.constant([[10, 7, 999],\n",
        "                      [7, 10, 999]])\n",
        "matrixROB"
      ],
      "metadata": {
        "colab": {
          "base_uri": "https://localhost:8080/"
        },
        "id": "9LR1qJwvR306",
        "outputId": "eb9d246d-5943-4c0a-8d7c-45061d474da9"
      },
      "execution_count": 37,
      "outputs": [
        {
          "output_type": "execute_result",
          "data": {
            "text/plain": [
              "<tf.Tensor: shape=(2, 3), dtype=int32, numpy=\n",
              "array([[ 10,   7, 999],\n",
              "       [  7,  10, 999]], dtype=int32)>"
            ]
          },
          "metadata": {},
          "execution_count": 37
        }
      ]
    },
    {
      "cell_type": "code",
      "source": [
        "matrix.ndim"
      ],
      "metadata": {
        "colab": {
          "base_uri": "https://localhost:8080/"
        },
        "id": "J_l9WMWxR9jB",
        "outputId": "010ddedc-4288-434a-f38f-23c64ea30949"
      },
      "execution_count": 38,
      "outputs": [
        {
          "output_type": "execute_result",
          "data": {
            "text/plain": [
              "2"
            ]
          },
          "metadata": {},
          "execution_count": 38
        }
      ]
    },
    {
      "cell_type": "code",
      "source": [
        "matrixROB.ndim\n"
      ],
      "metadata": {
        "colab": {
          "base_uri": "https://localhost:8080/"
        },
        "id": "chqceIMGSH6Z",
        "outputId": "2945d5ba-0a5a-4c45-a735-5d4f8320e2ec"
      },
      "execution_count": 40,
      "outputs": [
        {
          "output_type": "execute_result",
          "data": {
            "text/plain": [
              "2"
            ]
          },
          "metadata": {},
          "execution_count": 40
        }
      ]
    },
    {
      "cell_type": "code",
      "source": [
        "matrixROB.shape"
      ],
      "metadata": {
        "colab": {
          "base_uri": "https://localhost:8080/"
        },
        "id": "1l250R2nSL-7",
        "outputId": "d36f7791-5160-45f1-920b-438bd16163ee"
      },
      "execution_count": 41,
      "outputs": [
        {
          "output_type": "execute_result",
          "data": {
            "text/plain": [
              "TensorShape([2, 3])"
            ]
          },
          "metadata": {},
          "execution_count": 41
        }
      ]
    },
    {
      "cell_type": "code",
      "source": [
        "# Create another matrix and define the datatype\n",
        "another_matrix = tf.constant([[10., 7.],\n",
        "                              [3., 2.987698687],\n",
        "                              [8., 9.]], dtype=tf.float16) # specify the datatype with 'dtype'\n",
        "another_matrix"
      ],
      "metadata": {
        "colab": {
          "base_uri": "https://localhost:8080/"
        },
        "id": "XYe-T6D5SPiH",
        "outputId": "b017e476-8361-4ffd-f4ef-5213a49d5f1d"
      },
      "execution_count": 45,
      "outputs": [
        {
          "output_type": "execute_result",
          "data": {
            "text/plain": [
              "<tf.Tensor: shape=(3, 2), dtype=float16, numpy=\n",
              "array([[10.   ,  7.   ],\n",
              "       [ 3.   ,  2.988],\n",
              "       [ 8.   ,  9.   ]], dtype=float16)>"
            ]
          },
          "metadata": {},
          "execution_count": 45
        }
      ]
    },
    {
      "cell_type": "code",
      "source": [
        "# Even though another_matrix contains more numbers, its dimensions stay the same\n",
        "another_matrix.ndim"
      ],
      "metadata": {
        "colab": {
          "base_uri": "https://localhost:8080/"
        },
        "id": "kQerUWpOSn0w",
        "outputId": "630da7c7-59d4-4785-f37f-a3f653cc2ea4"
      },
      "execution_count": 46,
      "outputs": [
        {
          "output_type": "execute_result",
          "data": {
            "text/plain": [
              "2"
            ]
          },
          "metadata": {},
          "execution_count": 46
        }
      ]
    },
    {
      "cell_type": "code",
      "source": [
        "another_matrix.shape"
      ],
      "metadata": {
        "colab": {
          "base_uri": "https://localhost:8080/"
        },
        "id": "fH5SrggWSrdb",
        "outputId": "6116ef57-79f9-4a65-a649-8961cad5ccad"
      },
      "execution_count": 47,
      "outputs": [
        {
          "output_type": "execute_result",
          "data": {
            "text/plain": [
              "TensorShape([3, 2])"
            ]
          },
          "metadata": {},
          "execution_count": 47
        }
      ]
    },
    {
      "cell_type": "code",
      "source": [
        "# How about a tensor? (more than 2 dimensions, although, all of the above items are also technically tensors)\n",
        "tensor = tf.constant([[[1, 2, 3],\n",
        "                       [4, 5, 6]],\n",
        "                      [[7, 8, 9],\n",
        "                       [10, 11, 12]],\n",
        "                      [[13, 14, 15],\n",
        "                       [16, 17, 18]]])\n",
        "tensor"
      ],
      "metadata": {
        "colab": {
          "base_uri": "https://localhost:8080/"
        },
        "id": "GT3qiNZEStW3",
        "outputId": "cb6b2b8d-1c74-4c1e-8466-2e7988bf2675"
      },
      "execution_count": 52,
      "outputs": [
        {
          "output_type": "execute_result",
          "data": {
            "text/plain": [
              "<tf.Tensor: shape=(3, 2, 3), dtype=int32, numpy=\n",
              "array([[[ 1,  2,  3],\n",
              "        [ 4,  5,  6]],\n",
              "\n",
              "       [[ 7,  8,  9],\n",
              "        [10, 11, 12]],\n",
              "\n",
              "       [[13, 14, 15],\n",
              "        [16, 17, 18]]], dtype=int32)>"
            ]
          },
          "metadata": {},
          "execution_count": 52
        }
      ]
    },
    {
      "cell_type": "code",
      "source": [],
      "metadata": {
        "colab": {
          "base_uri": "https://localhost:8080/"
        },
        "id": "M1L9wxYlUwDO",
        "outputId": "6e8e4bf2-d6a3-46ee-e3af-754fdaf8c262"
      },
      "execution_count": 49,
      "outputs": [
        {
          "output_type": "execute_result",
          "data": {
            "text/plain": [
              "3"
            ]
          },
          "metadata": {},
          "execution_count": 49
        }
      ]
    },
    {
      "cell_type": "code",
      "source": [
        "tensor.shape"
      ],
      "metadata": {
        "colab": {
          "base_uri": "https://localhost:8080/"
        },
        "id": "kwe1nhHqUzHM",
        "outputId": "e011f170-2b69-42b5-d886-c25e24e99c13"
      },
      "execution_count": 50,
      "outputs": [
        {
          "output_type": "execute_result",
          "data": {
            "text/plain": [
              "TensorShape([3, 2, 3])"
            ]
          },
          "metadata": {},
          "execution_count": 50
        }
      ]
    },
    {
      "cell_type": "code",
      "source": [],
      "metadata": {
        "id": "EJGDyOI4U19M"
      },
      "execution_count": null,
      "outputs": []
    },
    {
      "cell_type": "markdown",
      "source": [
        "\n",
        "This is known as a rank 3 tensor (3-dimensions), however a tensor can have an arbitrary (unlimited) amount of dimensions.\n",
        "\n",
        "For example, you might turn a series of images into tensors with shape (224, 224, 3, 32), where:\n",
        "\n",
        "224, 224 (the first 2 dimensions) are the height and width of the images in pixels.\n",
        "3 is the number of colour channels of the image (red, green blue).\n",
        "32 is the batch size (the number of images a neural network sees at any one time).\n",
        "All of the above variables we've created are actually tensors. But you may also hear them referred to as their different names (the ones we gave them):\n",
        "\n",
        "scalar: a single number.\n",
        "vector: a number with direction (e.g. wind speed with direction).\n",
        "matrix: a 2-dimensional array of numbers.\n",
        "tensor: an n-dimensional array of numbers (where n can be any number, a 0-dimension tensor is a scalar, a 1-dimension tensor is a vector).\n",
        "To add to the confusion, the terms matrix and tensor are often used interchangeably.\n",
        "\n",
        "Going forward since we're using TensorFlow, everything we refer to and use will be tensors.\n",
        "\n",
        "For more on the mathematical difference between scalars, vectors and matrices see the visual algebra post by Math is Fun."
      ],
      "metadata": {
        "id": "d6oA9l5lVbtZ"
      }
    },
    {
      "cell_type": "markdown",
      "source": [
        "![t.png](data:image/png;base64,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)"
      ],
      "metadata": {
        "id": "wPVyBDFRVfob"
      }
    },
    {
      "cell_type": "markdown",
      "source": [
        "# Creating Tensors with tf.Variable()\n",
        "You can also (although you likely rarely will, because often, when working with data, tensors are created for you automatically) create tensors using tf.Variable().\n",
        "\n",
        "The difference between tf.Variable() and tf.constant() is tensors created with tf.constant() are immutable (can't be changed, can only be used to create a new tensor), where as, tensors created with tf.Variable() are mutable (can be changed)."
      ],
      "metadata": {
        "id": "-qYrgyPRVwI9"
      }
    },
    {
      "cell_type": "code",
      "source": [
        "# Create the same tensor with tf.Variable() and tf.constant()\n",
        "changeable_tensor = tf.Variable([10, 7])\n",
        "unchangeable_tensor = tf.constant([10, 7])\n",
        "changeable_tensor, unchangeable_tensor"
      ],
      "metadata": {
        "colab": {
          "base_uri": "https://localhost:8080/"
        },
        "id": "b7dgtPrcVyK8",
        "outputId": "771dd951-8bd7-442c-c1be-4329b7de6799"
      },
      "execution_count": 63,
      "outputs": [
        {
          "output_type": "execute_result",
          "data": {
            "text/plain": [
              "(<tf.Variable 'Variable:0' shape=(2,) dtype=int32, numpy=array([10,  7], dtype=int32)>,\n",
              " <tf.Tensor: shape=(2,), dtype=int32, numpy=array([10,  7], dtype=int32)>)"
            ]
          },
          "metadata": {},
          "execution_count": 63
        }
      ]
    },
    {
      "cell_type": "markdown",
      "source": [
        "\n",
        "Now let's try to change one of the elements of the changeable tensor."
      ],
      "metadata": {
        "id": "VuFprM0Dl_lH"
      }
    },
    {
      "cell_type": "code",
      "source": [
        "# Will error (requires the .assign() method)\n",
        "changeable_tensor[0] = 7\n",
        "changeable_tensor"
      ],
      "metadata": {
        "colab": {
          "base_uri": "https://localhost:8080/",
          "height": 201
        },
        "id": "s8kBMVPLV2sy",
        "outputId": "7425a10f-c720-467b-d62f-bad76862d134"
      },
      "execution_count": 64,
      "outputs": [
        {
          "output_type": "error",
          "ename": "TypeError",
          "evalue": "ignored",
          "traceback": [
            "\u001b[0;31m---------------------------------------------------------------------------\u001b[0m",
            "\u001b[0;31mTypeError\u001b[0m                                 Traceback (most recent call last)",
            "\u001b[0;32m<ipython-input-64-daecfbad2415>\u001b[0m in \u001b[0;36m<module>\u001b[0;34m\u001b[0m\n\u001b[1;32m      1\u001b[0m \u001b[0;31m# Will error (requires the .assign() method)\u001b[0m\u001b[0;34m\u001b[0m\u001b[0;34m\u001b[0m\u001b[0m\n\u001b[0;32m----> 2\u001b[0;31m \u001b[0mchangeable_tensor\u001b[0m\u001b[0;34m[\u001b[0m\u001b[0;36m0\u001b[0m\u001b[0;34m]\u001b[0m \u001b[0;34m=\u001b[0m \u001b[0;36m7\u001b[0m\u001b[0;34m\u001b[0m\u001b[0;34m\u001b[0m\u001b[0m\n\u001b[0m\u001b[1;32m      3\u001b[0m \u001b[0mchangeable_tensor\u001b[0m\u001b[0;34m\u001b[0m\u001b[0;34m\u001b[0m\u001b[0m\n",
            "\u001b[0;31mTypeError\u001b[0m: 'ResourceVariable' object does not support item assignment"
          ]
        }
      ]
    },
    {
      "cell_type": "markdown",
      "source": [
        "\n",
        "To change an element of a tf.Variable() tensor requires the assign() method."
      ],
      "metadata": {
        "id": "OVnbHn7ameTj"
      }
    },
    {
      "cell_type": "code",
      "source": [
        "# Won't error\n",
        "changeable_tensor[0].assign(7)\n",
        "changeable_tensor"
      ],
      "metadata": {
        "colab": {
          "base_uri": "https://localhost:8080/"
        },
        "id": "YyRQDkJDmfP8",
        "outputId": "b2359a7f-7e9b-460d-89d7-3932e720ae5e"
      },
      "execution_count": 65,
      "outputs": [
        {
          "output_type": "execute_result",
          "data": {
            "text/plain": [
              "<tf.Variable 'Variable:0' shape=(2,) dtype=int32, numpy=array([7, 7], dtype=int32)>"
            ]
          },
          "metadata": {},
          "execution_count": 65
        }
      ]
    },
    {
      "cell_type": "markdown",
      "source": [
        "\n",
        "Now let's try to change a value in a tf.constant() tensor."
      ],
      "metadata": {
        "id": "ss6dYn9_mqfg"
      }
    },
    {
      "cell_type": "code",
      "source": [
        "# Will error (can't change tf.constant())\n",
        "unchangeable_tensor[0].assign(7)\n",
        "unchangleable_tensor"
      ],
      "metadata": {
        "colab": {
          "base_uri": "https://localhost:8080/",
          "height": 340
        },
        "id": "aCPwGbLwmrTz",
        "outputId": "20c60f65-fadc-4a30-e422-5fdeb9a12d15"
      },
      "execution_count": 66,
      "outputs": [
        {
          "output_type": "error",
          "ename": "AttributeError",
          "evalue": "ignored",
          "traceback": [
            "\u001b[0;31m---------------------------------------------------------------------------\u001b[0m",
            "\u001b[0;31mAttributeError\u001b[0m                            Traceback (most recent call last)",
            "\u001b[0;32m<ipython-input-66-3947b974feb9>\u001b[0m in \u001b[0;36m<module>\u001b[0;34m\u001b[0m\n\u001b[1;32m      1\u001b[0m \u001b[0;31m# Will error (can't change tf.constant())\u001b[0m\u001b[0;34m\u001b[0m\u001b[0;34m\u001b[0m\u001b[0m\n\u001b[0;32m----> 2\u001b[0;31m \u001b[0munchangeable_tensor\u001b[0m\u001b[0;34m[\u001b[0m\u001b[0;36m0\u001b[0m\u001b[0;34m]\u001b[0m\u001b[0;34m.\u001b[0m\u001b[0massign\u001b[0m\u001b[0;34m(\u001b[0m\u001b[0;36m7\u001b[0m\u001b[0;34m)\u001b[0m\u001b[0;34m\u001b[0m\u001b[0;34m\u001b[0m\u001b[0m\n\u001b[0m\u001b[1;32m      3\u001b[0m \u001b[0munchangleable_tensor\u001b[0m\u001b[0;34m\u001b[0m\u001b[0;34m\u001b[0m\u001b[0m\n",
            "\u001b[0;32m/usr/local/lib/python3.9/dist-packages/tensorflow/python/framework/ops.py\u001b[0m in \u001b[0;36m__getattr__\u001b[0;34m(self, name)\u001b[0m\n\u001b[1;32m    442\u001b[0m         \u001b[0mnp_config\u001b[0m\u001b[0;34m.\u001b[0m\u001b[0menable_numpy_behavior\u001b[0m\u001b[0;34m(\u001b[0m\u001b[0;34m)\u001b[0m\u001b[0;34m\u001b[0m\u001b[0;34m\u001b[0m\u001b[0m\n\u001b[1;32m    443\u001b[0m       \"\"\")\n\u001b[0;32m--> 444\u001b[0;31m     \u001b[0mself\u001b[0m\u001b[0;34m.\u001b[0m\u001b[0m__getattribute__\u001b[0m\u001b[0;34m(\u001b[0m\u001b[0mname\u001b[0m\u001b[0;34m)\u001b[0m\u001b[0;34m\u001b[0m\u001b[0;34m\u001b[0m\u001b[0m\n\u001b[0m\u001b[1;32m    445\u001b[0m \u001b[0;34m\u001b[0m\u001b[0m\n\u001b[1;32m    446\u001b[0m   \u001b[0;34m@\u001b[0m\u001b[0mstaticmethod\u001b[0m\u001b[0;34m\u001b[0m\u001b[0;34m\u001b[0m\u001b[0m\n",
            "\u001b[0;31mAttributeError\u001b[0m: 'tensorflow.python.framework.ops.EagerTensor' object has no attribute 'assign'"
          ]
        }
      ]
    },
    {
      "cell_type": "markdown",
      "source": [
        "Which one should you use? tf.constant() or tf.Variable()?\n",
        "\n",
        "It will depend on what your problem requires. However, most of the time, TensorFlow will automatically choose for you (when loading data or modelling data)."
      ],
      "metadata": {
        "id": "dpT6_3i0myrq"
      }
    },
    {
      "cell_type": "markdown",
      "source": [
        "\n",
        "# Creating random tensors"
      ],
      "metadata": {
        "id": "DFmErSBom1BM"
      }
    }
  ]
}